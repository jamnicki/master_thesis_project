{
 "cells": [
  {
   "cell_type": "code",
   "execution_count": 1,
   "metadata": {},
   "outputs": [
    {
     "data": {
      "text/plain": [
       "True"
      ]
     },
     "execution_count": 1,
     "metadata": {},
     "output_type": "execute_result"
    }
   ],
   "source": [
    "from src.settings import load_env\n",
    "\n",
    "load_env()"
   ]
  },
  {
   "cell_type": "code",
   "execution_count": 2,
   "metadata": {},
   "outputs": [],
   "source": [
    "import os\n",
    "from azure.ai.generative.synthetic.qa import QADataGenerator\n",
    "\n",
    "\n",
    "model_name = \"gpt-35-turbo\"\n",
    "\n",
    "model_config = dict(\n",
    "    deployment=model_name, \n",
    "    model=model_name,  \n",
    "    max_tokens=2000,\n",
    ")\n",
    "\n",
    "qa_generator = QADataGenerator(model_config=model_config)"
   ]
  },
  {
   "cell_type": "code",
   "execution_count": 3,
   "metadata": {},
   "outputs": [
    {
     "data": {
      "text/plain": [
       "'Leonardo di ser Piero da Vinci (15 April 1452 – 2 May 1519) was an Italian polymath of the High Renaissance who was active as a painter, draughtsman, engineer, scientist, theorist, sculptor, and architect. While his fame initially rested on his achievements as a painter, he has also become known for his notebooks, in which he made drawings and notes on a variety of subjects, including anatomy, astronomy, botany, cartography, painting, and paleontology. Leonardo is widely regarded to have been a genius who epitomized the Renaissance humanist ideal, and his collective works comprise a contribution to later generations of artists matched only by that of his younger contemporary Michelangelo.Bor'"
      ]
     },
     "execution_count": 3,
     "metadata": {},
     "output_type": "execute_result"
    }
   ],
   "source": [
    "# uncomment below line to install wikipedia\n",
    "#!pip install wikipedia \n",
    "import wikipedia\n",
    "\n",
    "wiki_title = wikipedia.search(\"Leonardo da vinci\")[0]\n",
    "wiki_page = wikipedia.page(wiki_title)\n",
    "text = wiki_page.summary[:700]\n",
    "text"
   ]
  },
  {
   "cell_type": "code",
   "execution_count": 4,
   "metadata": {},
   "outputs": [
    {
     "ename": "OpenAIError",
     "evalue": "Missing credentials. Please pass one of `api_key`, `azure_ad_token`, `azure_ad_token_provider`, or the `AZURE_OPENAI_API_KEY` or `AZURE_OPENAI_AD_TOKEN` environment variables.",
     "output_type": "error",
     "traceback": [
      "\u001b[0;31m---------------------------------------------------------------------------\u001b[0m",
      "\u001b[0;31mOpenAIError\u001b[0m                               Traceback (most recent call last)",
      "Cell \u001b[0;32mIn[4], line 5\u001b[0m\n\u001b[1;32m      1\u001b[0m \u001b[39mfrom\u001b[39;00m \u001b[39mazure\u001b[39;00m\u001b[39m.\u001b[39;00m\u001b[39mai\u001b[39;00m\u001b[39m.\u001b[39;00m\u001b[39mgenerative\u001b[39;00m\u001b[39m.\u001b[39;00m\u001b[39msynthetic\u001b[39;00m\u001b[39m.\u001b[39;00m\u001b[39mqa\u001b[39;00m \u001b[39mimport\u001b[39;00m QAType\n\u001b[1;32m      3\u001b[0m qa_type \u001b[39m=\u001b[39m QAType\u001b[39m.\u001b[39mCONVERSATION\n\u001b[0;32m----> 5\u001b[0m result \u001b[39m=\u001b[39m qa_generator\u001b[39m.\u001b[39;49mgenerate(text\u001b[39m=\u001b[39;49mtext, qa_type\u001b[39m=\u001b[39;49mqa_type, num_questions\u001b[39m=\u001b[39;49m\u001b[39m5\u001b[39;49m)\n\u001b[1;32m      7\u001b[0m \u001b[39mfor\u001b[39;00m question, answer \u001b[39min\u001b[39;00m result[\u001b[39m\"\u001b[39m\u001b[39mquestion_answers\u001b[39m\u001b[39m\"\u001b[39m]:\n\u001b[1;32m      8\u001b[0m     \u001b[39mprint\u001b[39m(\u001b[39mf\u001b[39m\u001b[39m\"\u001b[39m\u001b[39mQ: \u001b[39m\u001b[39m{\u001b[39;00mquestion\u001b[39m}\u001b[39;00m\u001b[39m\"\u001b[39m)\n",
      "File \u001b[0;32m/opt/conda/lib/python3.10/site-packages/azure/core/tracing/decorator.py:78\u001b[0m, in \u001b[0;36mdistributed_trace.<locals>.decorator.<locals>.wrapper_use_tracer\u001b[0;34m(*args, **kwargs)\u001b[0m\n\u001b[1;32m     76\u001b[0m span_impl_type \u001b[39m=\u001b[39m settings\u001b[39m.\u001b[39mtracing_implementation()\n\u001b[1;32m     77\u001b[0m \u001b[39mif\u001b[39;00m span_impl_type \u001b[39mis\u001b[39;00m \u001b[39mNone\u001b[39;00m:\n\u001b[0;32m---> 78\u001b[0m     \u001b[39mreturn\u001b[39;00m func(\u001b[39m*\u001b[39;49margs, \u001b[39m*\u001b[39;49m\u001b[39m*\u001b[39;49mkwargs)\n\u001b[1;32m     80\u001b[0m \u001b[39m# Merge span is parameter is set, but only if no explicit parent are passed\u001b[39;00m\n\u001b[1;32m     81\u001b[0m \u001b[39mif\u001b[39;00m merge_span \u001b[39mand\u001b[39;00m \u001b[39mnot\u001b[39;00m passed_in_parent:\n",
      "File \u001b[0;32m/opt/conda/lib/python3.10/site-packages/azure/ai/ml/_telemetry/activity.py:291\u001b[0m, in \u001b[0;36mmonitor_with_activity.<locals>.monitor.<locals>.wrapper\u001b[0;34m(*args, **kwargs)\u001b[0m\n\u001b[1;32m    289\u001b[0m \u001b[39melse\u001b[39;00m:\n\u001b[1;32m    290\u001b[0m     \u001b[39mwith\u001b[39;00m log_activity(logger, activity_name \u001b[39mor\u001b[39;00m f\u001b[39m.\u001b[39m\u001b[39m__name__\u001b[39m, activity_type, custom_dimensions):\n\u001b[0;32m--> 291\u001b[0m         \u001b[39mreturn\u001b[39;00m f(\u001b[39m*\u001b[39;49margs, \u001b[39m*\u001b[39;49m\u001b[39m*\u001b[39;49mkwargs)\n",
      "File \u001b[0;32m/opt/conda/lib/python3.10/site-packages/azure/ai/generative/synthetic/qa.py:333\u001b[0m, in \u001b[0;36mQADataGenerator.generate\u001b[0;34m(self, text, qa_type, num_questions)\u001b[0m\n\u001b[1;32m    331\u001b[0m \u001b[39mself\u001b[39m\u001b[39m.\u001b[39m_validate(qa_type, num_questions)  \n\u001b[1;32m    332\u001b[0m validated_num_questions: \u001b[39mint\u001b[39m \u001b[39m=\u001b[39m num_questions  \u001b[39m# type: ignore[assignment]\u001b[39;00m\n\u001b[0;32m--> 333\u001b[0m content, token_usage \u001b[39m=\u001b[39m _completion_with_retries(\n\u001b[1;32m    334\u001b[0m     messages\u001b[39m=\u001b[39;49m\u001b[39mself\u001b[39;49m\u001b[39m.\u001b[39;49m_get_messages_for_qa_type(qa_type, text, validated_num_questions),\n\u001b[1;32m    335\u001b[0m     \u001b[39m*\u001b[39;49m\u001b[39m*\u001b[39;49m\u001b[39mself\u001b[39;49m\u001b[39m.\u001b[39;49m_chat_completion_params,\n\u001b[1;32m    336\u001b[0m )\n\u001b[1;32m    337\u001b[0m questions, answers \u001b[39m=\u001b[39m \u001b[39mself\u001b[39m\u001b[39m.\u001b[39m_parse_qa_from_response(content)\n\u001b[1;32m    338\u001b[0m \u001b[39massert\u001b[39;00m \u001b[39mlen\u001b[39m(questions) \u001b[39m==\u001b[39m \u001b[39mlen\u001b[39m(answers), \u001b[39mself\u001b[39m\u001b[39m.\u001b[39m_PARSING_ERR_UNEQUAL_QA\n",
      "File \u001b[0;32m/opt/conda/lib/python3.10/site-packages/azure/ai/generative/synthetic/qa.py:67\u001b[0m, in \u001b[0;36m_completion_with_retries\u001b[0;34m(*args, **kwargs)\u001b[0m\n\u001b[1;32m     65\u001b[0m \u001b[39mif\u001b[39;00m kwargs[\u001b[39m\"\u001b[39m\u001b[39mapi_type\u001b[39m\u001b[39m\"\u001b[39m]\u001b[39m.\u001b[39mlower() \u001b[39m==\u001b[39m \u001b[39m\"\u001b[39m\u001b[39mazure\u001b[39m\u001b[39m\"\u001b[39m:\n\u001b[1;32m     66\u001b[0m     \u001b[39mfrom\u001b[39;00m \u001b[39mopenai\u001b[39;00m \u001b[39mimport\u001b[39;00m AzureOpenAI\n\u001b[0;32m---> 67\u001b[0m     client \u001b[39m=\u001b[39m AzureOpenAI(\n\u001b[1;32m     68\u001b[0m         azure_endpoint \u001b[39m=\u001b[39;49m kwargs[\u001b[39m\"\u001b[39;49m\u001b[39mapi_base\u001b[39;49m\u001b[39m\"\u001b[39;49m], \n\u001b[1;32m     69\u001b[0m         api_key\u001b[39m=\u001b[39;49mkwargs[\u001b[39m\"\u001b[39;49m\u001b[39mapi_key\u001b[39;49m\u001b[39m\"\u001b[39;49m],  \n\u001b[1;32m     70\u001b[0m         api_version\u001b[39m=\u001b[39;49mkwargs[\u001b[39m\"\u001b[39;49m\u001b[39mapi_version\u001b[39;49m\u001b[39m\"\u001b[39;49m],\n\u001b[1;32m     71\u001b[0m         default_headers\u001b[39m=\u001b[39;49m{USER_AGENT_HEADER_KEY: USER_AGENT},\n\u001b[1;32m     72\u001b[0m     )\n\u001b[1;32m     73\u001b[0m     response \u001b[39m=\u001b[39m client\u001b[39m.\u001b[39mchat\u001b[39m.\u001b[39mcompletions\u001b[39m.\u001b[39mcreate(messages\u001b[39m=\u001b[39mkwargs[\u001b[39m\"\u001b[39m\u001b[39mmessages\u001b[39m\u001b[39m\"\u001b[39m], model\u001b[39m=\u001b[39mkwargs[\u001b[39m\"\u001b[39m\u001b[39mdeployment_id\u001b[39m\u001b[39m\"\u001b[39m], temperature\u001b[39m=\u001b[39mkwargs[\u001b[39m\"\u001b[39m\u001b[39mtemperature\u001b[39m\u001b[39m\"\u001b[39m], max_tokens\u001b[39m=\u001b[39mkwargs[\u001b[39m\"\u001b[39m\u001b[39mmax_tokens\u001b[39m\u001b[39m\"\u001b[39m])\n\u001b[1;32m     74\u001b[0m \u001b[39melse\u001b[39;00m:\n",
      "File \u001b[0;32m/opt/conda/lib/python3.10/site-packages/openai/lib/azure.py:167\u001b[0m, in \u001b[0;36mAzureOpenAI.__init__\u001b[0;34m(self, api_version, azure_endpoint, azure_deployment, api_key, azure_ad_token, azure_ad_token_provider, organization, base_url, timeout, max_retries, default_headers, default_query, http_client, _strict_response_validation)\u001b[0m\n\u001b[1;32m    164\u001b[0m     azure_ad_token \u001b[39m=\u001b[39m os\u001b[39m.\u001b[39menviron\u001b[39m.\u001b[39mget(\u001b[39m\"\u001b[39m\u001b[39mAZURE_OPENAI_AD_TOKEN\u001b[39m\u001b[39m\"\u001b[39m)\n\u001b[1;32m    166\u001b[0m \u001b[39mif\u001b[39;00m api_key \u001b[39mis\u001b[39;00m \u001b[39mNone\u001b[39;00m \u001b[39mand\u001b[39;00m azure_ad_token \u001b[39mis\u001b[39;00m \u001b[39mNone\u001b[39;00m \u001b[39mand\u001b[39;00m azure_ad_token_provider \u001b[39mis\u001b[39;00m \u001b[39mNone\u001b[39;00m:\n\u001b[0;32m--> 167\u001b[0m     \u001b[39mraise\u001b[39;00m OpenAIError(\n\u001b[1;32m    168\u001b[0m         \u001b[39m\"\u001b[39m\u001b[39mMissing credentials. Please pass one of `api_key`, `azure_ad_token`, `azure_ad_token_provider`, or the `AZURE_OPENAI_API_KEY` or `AZURE_OPENAI_AD_TOKEN` environment variables.\u001b[39m\u001b[39m\"\u001b[39m\n\u001b[1;32m    169\u001b[0m     )\n\u001b[1;32m    171\u001b[0m \u001b[39mif\u001b[39;00m api_version \u001b[39mis\u001b[39;00m \u001b[39mNone\u001b[39;00m:\n\u001b[1;32m    172\u001b[0m     api_version \u001b[39m=\u001b[39m os\u001b[39m.\u001b[39menviron\u001b[39m.\u001b[39mget(\u001b[39m\"\u001b[39m\u001b[39mOPENAI_API_VERSION\u001b[39m\u001b[39m\"\u001b[39m)\n",
      "\u001b[0;31mOpenAIError\u001b[0m: Missing credentials. Please pass one of `api_key`, `azure_ad_token`, `azure_ad_token_provider`, or the `AZURE_OPENAI_API_KEY` or `AZURE_OPENAI_AD_TOKEN` environment variables."
     ]
    }
   ],
   "source": [
    "from azure.ai.generative.synthetic.qa import QAType\n",
    "\n",
    "qa_type = QAType.CONVERSATION\n",
    "\n",
    "result = qa_generator.generate(text=text, qa_type=qa_type, num_questions=5)\n",
    "\n",
    "for question, answer in result[\"question_answers\"]:\n",
    "    print(f\"Q: {question}\")\n",
    "    print(f\"A: {answer}\")"
   ]
  },
  {
   "cell_type": "code",
   "execution_count": null,
   "metadata": {},
   "outputs": [],
   "source": [
    "print(f\"Tokens used: {result['token_usage']}\")"
   ]
  },
  {
   "cell_type": "code",
   "execution_count": null,
   "metadata": {},
   "outputs": [],
   "source": []
  }
 ],
 "metadata": {
  "kernelspec": {
   "display_name": "base",
   "language": "python",
   "name": "python3"
  },
  "language_info": {
   "codemirror_mode": {
    "name": "ipython",
    "version": 3
   },
   "file_extension": ".py",
   "mimetype": "text/x-python",
   "name": "python",
   "nbconvert_exporter": "python",
   "pygments_lexer": "ipython3",
   "version": "3.10.8"
  },
  "orig_nbformat": 4
 },
 "nbformat": 4,
 "nbformat_minor": 2
}
