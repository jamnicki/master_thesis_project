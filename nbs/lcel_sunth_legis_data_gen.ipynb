{
 "cells": [
  {
   "cell_type": "code",
   "execution_count": 1,
   "metadata": {},
   "outputs": [
    {
     "data": {
      "text/plain": [
       "True"
      ]
     },
     "execution_count": 1,
     "metadata": {},
     "output_type": "execute_result"
    }
   ],
   "source": [
    "from langchain_core.output_parsers import StrOutputParser, JsonOutputParser\n",
    "from langchain_core.pydantic_v1 import BaseModel, Field\n",
    "from langchain_core.prompts import ChatPromptTemplate\n",
    "from langchain_openai import ChatOpenAI\n",
    "from langchain.globals import set_verbose\n",
    "\n",
    "set_verbose(True)\n",
    "\n",
    "from src.settings import load_env, DATA_DIR\n",
    "\n",
    "load_env()"
   ]
  },
  {
   "cell_type": "code",
   "execution_count": 2,
   "metadata": {},
   "outputs": [
    {
     "data": {
      "text/plain": [
       "'Sygnatura akt II AKa 335/15\\n\\nWYROK\\nW IMIENIU RZECZYPOSPOLITEJ POLSKIEJ\\nDnia 20 stycznia 2016 r.\\n\\nSąd ...'"
      ]
     },
     "execution_count": 2,
     "metadata": {},
     "output_type": "execute_result"
    }
   ],
   "source": [
    "with open(DATA_DIR / \"sample_legis.txt\") as f:\n",
    "    legis_text = f.read()\n",
    "\n",
    "legis_text[:100] + \" ...\""
   ]
  },
  {
   "cell_type": "code",
   "execution_count": 3,
   "metadata": {},
   "outputs": [],
   "source": [
    "INSTRUCTION = '''\\\n",
    "You are a question-answer generator. Your goal is to generate question-answer pairs given the Context.\n",
    "Do not tranlate the Context, generate questions and answers in original language.\n",
    "\n",
    "Example output: {{\"question\": \"generated question\", \"answer\": \"gathered answer\"}}\n",
    "\n",
    "Context: {context}\n",
    "\n",
    "Step 1: Identify spans that are likely to be answers to questions, identify as many as possible.\n",
    "Step 2: For each identified span, generate a question.\n",
    "Step 3: Respond to the question in only a few tokens concisely.\n",
    "Step 4: Output in JSON format following [...]\n",
    "\n",
    "Ensure that you distinctly label and delineate Steps 1, 2, 3, and 4.\n",
    "\n",
    "{format_instructions}\n",
    "'''"
   ]
  },
  {
   "cell_type": "code",
   "execution_count": 4,
   "metadata": {},
   "outputs": [],
   "source": [
    "# Define your desired data structure.\n",
    "class SyntheticLegisQARecord(BaseModel):\n",
    "    question: str = Field(description=\"Question parsed from last step of the prompt\")\n",
    "    answer: str = Field(description=\"Answer parsed from last step of the prompt\")"
   ]
  },
  {
   "cell_type": "code",
   "execution_count": 5,
   "metadata": {},
   "outputs": [],
   "source": [
    "output_parser = JsonOutputParser(pydantic_object=SyntheticLegisQARecord)"
   ]
  },
  {
   "cell_type": "code",
   "execution_count": 6,
   "metadata": {},
   "outputs": [],
   "source": [
    "prompt = ChatPromptTemplate.from_template(\n",
    "    template=INSTRUCTION,\n",
    "    partial_variables={\"format_instructions\": output_parser.get_format_instructions()},\n",
    ")"
   ]
  },
  {
   "cell_type": "code",
   "execution_count": 7,
   "metadata": {},
   "outputs": [
    {
     "data": {
      "text/plain": [
       "[{'question': 'Jaki sąd wydał ten wyrok?',\n",
       "  'answer': 'Sąd Apelacyjny we Wrocławiu II Wydział Karny'},\n",
       " {'question': 'Kiedy wydano ten wyrok?', 'answer': '20 stycznia 2016 r.'},\n",
       " {'question': 'Kto był przewodniczącym podczas wydania wyroku?',\n",
       "  'answer': 'SSA Stanisław Rączkowski'},\n",
       " {'question': 'Kto był sędzią podczas wydania wyroku?',\n",
       "  'answer': 'SSA Edward Stelmasik'},\n",
       " {'question': 'Kto był protokołantem podczas wydania wyroku?',\n",
       "  'answer': 'Beata Sienica'},\n",
       " {'question': 'Kto był prokuratorem podczas wydania wyroku?',\n",
       "  'answer': 'Leszka Pruskiego'},\n",
       " {'question': 'O jaką sprawę chodziło w tym wyroku?',\n",
       "  'answer': 'sprawa G. K.'},\n",
       " {'question': 'Za jaki artykuł oskarżono G. K.?', 'answer': 'art. 280 § 2 kk'},\n",
       " {'question': 'Od jakiego wyroku wniesiono apelację?',\n",
       "  'answer': 'wyrok Sądu Okręgowego w Jeleniej Górze z dnia 20 października 2015 r. sygn. akt III K 43/15'},\n",
       " {'question': 'Jaką karę wymierzono oskarżonemu G. K.?',\n",
       "  'answer': '3 ( trzech) lat pozbawienia wolności'},\n",
       " {'question': 'Ile wynosiły koszty nieopłaconej pomocy prawnej udzielonej oskarżonemu G. K.?',\n",
       "  'answer': '600 złotych oraz 138 zł'}]"
      ]
     },
     "execution_count": 7,
     "metadata": {},
     "output_type": "execute_result"
    }
   ],
   "source": [
    "model = ChatOpenAI(model=\"gpt-4\")\n",
    "\n",
    "chain = prompt | model | output_parser\n",
    "\n",
    "chain.invoke({\"context\": legis_text})"
   ]
  },
  {
   "cell_type": "code",
   "execution_count": null,
   "metadata": {},
   "outputs": [],
   "source": []
  }
 ],
 "metadata": {
  "kernelspec": {
   "display_name": "base",
   "language": "python",
   "name": "python3"
  },
  "language_info": {
   "codemirror_mode": {
    "name": "ipython",
    "version": 3
   },
   "file_extension": ".py",
   "mimetype": "text/x-python",
   "name": "python",
   "nbconvert_exporter": "python",
   "pygments_lexer": "ipython3",
   "version": "3.10.8"
  },
  "orig_nbformat": 4
 },
 "nbformat": 4,
 "nbformat_minor": 2
}
