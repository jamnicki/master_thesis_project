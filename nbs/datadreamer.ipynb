{
 "cells": [
  {
   "cell_type": "code",
   "execution_count": 1,
   "metadata": {},
   "outputs": [
    {
     "data": {
      "text/plain": [
       "True"
      ]
     },
     "execution_count": 1,
     "metadata": {},
     "output_type": "execute_result"
    }
   ],
   "source": [
    "from datadreamer import DataDreamer\n",
    "from datadreamer.llms import OpenAI\n",
    "from datadreamer.steps import DataFromPrompt, ProcessWithPrompt\n",
    "import json\n",
    "\n",
    "from src.settings import load_env, DATA_DIR\n",
    "\n",
    "load_env()"
   ]
  },
  {
   "cell_type": "code",
   "execution_count": 2,
   "metadata": {},
   "outputs": [
    {
     "data": {
      "text/plain": [
       "'Sygnatura akt II AKa 335/15\\n\\nWYROK\\nW IMIENIU RZECZYPOSPOLITEJ POLSKIEJ\\nDnia 20 stycznia 2016 r.\\n\\nSąd ...'"
      ]
     },
     "execution_count": 2,
     "metadata": {},
     "output_type": "execute_result"
    }
   ],
   "source": [
    "with open(DATA_DIR / \"sample_legis.txt\") as f:\n",
    "    legis_text = f.read()\n",
    "\n",
    "legis_text[:100] + \" ...\""
   ]
  },
  {
   "cell_type": "code",
   "execution_count": 33,
   "metadata": {},
   "outputs": [
    {
     "data": {
      "text/plain": [
       "'You are a question-answer generator. Your goal is to generate question-answer pairs given the Context.\\n\\nExample output: {\"question\": \"generated question\", \"answer\": \"gathered answer\"}\\n\\nContext: Sygnatura akt II AKa 335/15\\n\\nWYROK\\nW IMIENIU RZECZYPOSPOLITEJ POLSKIEJ\\nDnia 20 stycznia 2016 r.\\n\\nSąd Apelacyjny we Wrocławiu II Wydział Karny w składzie:\\n\\nPrzewodniczący: SSA Stanisław Rączkowski (spr.)\\n\\nSędziowie: SSA Edward Stelmasik\\n\\nSSO del. do SA Edyta Gajgał\\n\\nProtokolant: Beata Sienica\\n\\nprzy udziale prokuratora Prokuratury Apelacyjnej Leszka Pruskiego\\n\\npo rozpoznaniu w dniu 20 stycznia 2016 r.\\n\\nsprawy G. K.\\n\\noskarżonego z art. 280 § 2 kk\\n\\nna skutek apelacji wniesionej przez oskarżonego\\n\\nod wyroku Sądu Okręgowego w Jeleniej Górze\\n\\nz dnia 20 października 2015 r. sygn. akt III K 43/15\\n\\nI . zmienia zaskarżony wyrok wobec oskarżonego G. K. w ten sposób, że wymierzoną temu oskarżonemu karę obniża do 3 ( trzech) lat pozbawienia wolności,\\n\\nII. utrzymuje w mocy w pozostałym zakresie zaskarżony wyrok,\\n\\nIII. zasądza od Skarbu Państwa na rzecz adw. W. B. 600 złotych tytułem kosztów nieopłaconej pomocy prawnej udzielonej oskarżonemu G. K. z urzędu przed sądem odwoławczym oraz 138 zł tytułem zwrotu VAT,\\n\\nIV. zwalnia oskarżonego od kosztów sądowych za postępowanie odwoławcze.\\n\\nE. S.\\n\\nS. R.\\n\\nE. G.\\n\\n\\nStep 1: Identify spans that are likely to be answers to questions, identify as many as possible.\\nStep 2: For each identified span, generate a question.\\nStep 3: Respond to the question in only a few tokens concisely.\\nStep 4: Output in JSON format following [...]\\n\\nEnsure that you distinctly label and delineate Steps 1, 2, 3, and 4.\\n\\nLet’s think step by step:\\n'"
      ]
     },
     "execution_count": 33,
     "metadata": {},
     "output_type": "execute_result"
    }
   ],
   "source": [
    "PROMPT = '''\\\n",
    "You are a question-answer generator. Your goal is to generate question-answer pairs given the Context.\n",
    "\n",
    "Example output: {{\"question\": \"generated question\", \"answer\": \"gathered answer\"}}\n",
    "\n",
    "Context: {context}\n",
    "\n",
    "Step 1: Identify spans that are likely to be answers to questions, identify as many as possible.\n",
    "Step 2: For each identified span, generate a question.\n",
    "Step 3: Respond to the question in only a few tokens concisely.\n",
    "Step 4: Output in JSON format following [...]\n",
    "\n",
    "Ensure that you distinctly label and delineate Steps 1, 2, 3, and 4.\n",
    "\n",
    "Let’s think step by step:\n",
    "'''.format(context=legis_text)\n",
    "\n",
    "PROMPT"
   ]
  },
  {
   "cell_type": "code",
   "execution_count": 34,
   "metadata": {},
   "outputs": [
    {
     "name": "stderr",
     "output_type": "stream",
     "text": [
      "[ \u001b[35m🤖 Data\u001b[33mDr\u001b[31mea\u001b[35mmer\u001b[0m 💤 ] Initialized. 🚀 Dreaming to folder: ./output\n",
      "[ \u001b[35m🤖 Data\u001b[33mDr\u001b[31mea\u001b[35mmer\u001b[0m 💤 ] Step 'Legis Q-A Generation' is running. ⏳\n",
      "[ \u001b[35m🤖 Data\u001b[33mDr\u001b[31mea\u001b[35mmer\u001b[0m 💤 ] Step 'Legis Q-A Generation' finished and is saved to disk. 🎉\n",
      "[ \u001b[35m🤖 Data\u001b[33mDr\u001b[31mea\u001b[35mmer\u001b[0m 💤 ] Done. ✨ Results in folder: ./output\n"
     ]
    },
    {
     "name": "stdout",
     "output_type": "stream",
     "text": [
      "DataFromPrompt(\n",
      "\tname='Legis Q-A Generation',\n",
      "\tinputs={},\n",
      "\targs={\n",
      "\t\t'llm': <OpenAI (gpt-4)>,\n",
      "\t\t'instruction': 'You are a question-answer generator. Your goal is to generate question-answer pairs given the Context.\\n\\nExample output: {\"question\": \"generated question\", \"answer\": \"gathered answer\"}\\n\\nContext: Sygnatura akt II AKa 335/15\\n\\nWYROK\\nW IMIENIU RZECZYPOSPOLITEJ POLSKIEJ\\nDnia 20 stycznia 2016 r.\\n\\nSąd Apelacyjny we Wrocławiu II Wydział Karny w składzie:\\n\\nPrzewodniczący: SSA Stanisław Rączkowski (spr.)\\n\\nSędziowie: SSA Edward Stelmasik\\n\\nSSO del. do SA Edyta Gajgał\\n\\nProtokolant: Beata Sienica\\n\\nprzy udziale prokuratora Prokuratury Apelacyjnej Leszka Pruskiego\\n\\npo rozpoznaniu w dniu 20 stycznia 2016 r.\\n\\nsprawy G. K.\\n\\noskarżonego z art. 280 § 2 kk\\n\\nna skutek apelacji wniesionej przez oskarżonego\\n\\nod wyroku Sądu Okręgowego w Jeleniej Górze\\n\\nz dnia 20 października 2015 r. sygn. akt III K 43/15\\n\\nI . zmienia zaskarżony wyrok wobec oskarżonego G. K. w ten sposób, że wymierzoną temu oskarżonemu karę obniża do 3 ( trzech) lat pozbawienia wolności,\\n\\nII. utrzymuje w mocy w pozostałym zakresie zaskarżony wyrok,\\n\\nIII. zasądza od Skarbu Państwa na rzecz adw. W. B. 600 złotych tytułem kosztów nieopłaconej pomocy prawnej udzielonej oskarżonemu G. K. z urzędu przed sądem odwoławczym oraz 138 zł tytułem zwrotu VAT,\\n\\nIV. zwalnia oskarżonego od kosztów sądowych za postępowanie odwoławcze.\\n\\nE. S.\\n\\nS. R.\\n\\nE. G.\\n\\n\\nStep 1: Identify spans that are likely to be answers to questions, identify as many as possible.\\nStep 2: For each identified span, generate a question.\\nStep 3: Respond to the question in only a few tokens concisely.\\nStep 4: Output in JSON format following [...]\\n\\nEnsure that you distinctly label and delineate Steps 1, 2, 3, and 4.\\n\\nLet’s think step by step:\\n',\n",
      "\t\t'n': 1,\n",
      "\t\t'temperature': 1.2,\n",
      "\t\t'top_p': 1.0,\n",
      "\t\t'post_process': None,\n",
      "\t\t'lazy': False\n",
      "\t},\n",
      "\toutputs={\n",
      "\t\t'prompts' => 'prompts',\n",
      "\t\t'generations' => 'qa_json_list'\n",
      "\t},\n",
      "\tprogress='100%',\n",
      "\toutput=OutputDataset(column_names=['prompts', 'qa_json_list'], num_rows=1, dataset=<Dataset @ 140467897840160>),\n",
      ")\n"
     ]
    }
   ],
   "source": [
    "with DataDreamer(\"./output\"):\n",
    "   gpt_4 = OpenAI(model_name=\"gpt-4\")\n",
    "\n",
    "   dataset = DataFromPrompt(\n",
    "      \"Legis Q-A Generation\",\n",
    "      args={\n",
    "         \"llm\": gpt_4,\n",
    "         \"n\": 1,\n",
    "         \"temperature\": 1.2,\n",
    "         \"instruction\": PROMPT,\n",
    "      },\n",
    "      outputs={\"generations\": \"qa_json_list\"},\n",
    "   )\n",
    "   print(dataset)\n"
   ]
  },
  {
   "cell_type": "code",
   "execution_count": 35,
   "metadata": {},
   "outputs": [
    {
     "name": "stdout",
     "output_type": "stream",
     "text": [
      "DataFromPrompt(\n",
      "\tname='Legis Q-A Generation',\n",
      "\tinputs={},\n",
      "\targs={\n",
      "\t\t'llm': <OpenAI (gpt-4)>,\n",
      "\t\t'instruction': 'You are a question-answer generator. Your goal is to generate question-answer pairs given the Context.\\n\\nExample output: {\"question\": \"generated question\", \"answer\": \"gathered answer\"}\\n\\nContext: Sygnatura akt II AKa 335/15\\n\\nWYROK\\nW IMIENIU RZECZYPOSPOLITEJ POLSKIEJ\\nDnia 20 stycznia 2016 r.\\n\\nSąd Apelacyjny we Wrocławiu II Wydział Karny w składzie:\\n\\nPrzewodniczący: SSA Stanisław Rączkowski (spr.)\\n\\nSędziowie: SSA Edward Stelmasik\\n\\nSSO del. do SA Edyta Gajgał\\n\\nProtokolant: Beata Sienica\\n\\nprzy udziale prokuratora Prokuratury Apelacyjnej Leszka Pruskiego\\n\\npo rozpoznaniu w dniu 20 stycznia 2016 r.\\n\\nsprawy G. K.\\n\\noskarżonego z art. 280 § 2 kk\\n\\nna skutek apelacji wniesionej przez oskarżonego\\n\\nod wyroku Sądu Okręgowego w Jeleniej Górze\\n\\nz dnia 20 października 2015 r. sygn. akt III K 43/15\\n\\nI . zmienia zaskarżony wyrok wobec oskarżonego G. K. w ten sposób, że wymierzoną temu oskarżonemu karę obniża do 3 ( trzech) lat pozbawienia wolności,\\n\\nII. utrzymuje w mocy w pozostałym zakresie zaskarżony wyrok,\\n\\nIII. zasądza od Skarbu Państwa na rzecz adw. W. B. 600 złotych tytułem kosztów nieopłaconej pomocy prawnej udzielonej oskarżonemu G. K. z urzędu przed sądem odwoławczym oraz 138 zł tytułem zwrotu VAT,\\n\\nIV. zwalnia oskarżonego od kosztów sądowych za postępowanie odwoławcze.\\n\\nE. S.\\n\\nS. R.\\n\\nE. G.\\n\\n\\nStep 1: Identify spans that are likely to be answers to questions, identify as many as possible.\\nStep 2: For each identified span, generate a question.\\nStep 3: Respond to the question in only a few tokens concisely.\\nStep 4: Output in JSON format following [...]\\n\\nEnsure that you distinctly label and delineate Steps 1, 2, 3, and 4.\\n\\nLet’s think step by step:\\n',\n",
      "\t\t'n': 1,\n",
      "\t\t'temperature': 1.2,\n",
      "\t\t'top_p': 1.0,\n",
      "\t\t'post_process': None,\n",
      "\t\t'lazy': False\n",
      "\t},\n",
      "\toutputs={\n",
      "\t\t'prompts' => 'prompts',\n",
      "\t\t'generations' => 'qa_json_list'\n",
      "\t},\n",
      "\tprogress='100%',\n",
      "\toutput=OutputDataset(column_names=['prompts', 'qa_json_list'], num_rows=1, dataset=<Dataset @ 140467897840160>),\n",
      ")\n"
     ]
    }
   ],
   "source": [
    "print(dataset)"
   ]
  },
  {
   "cell_type": "code",
   "execution_count": 36,
   "metadata": {},
   "outputs": [
    {
     "name": "stdout",
     "output_type": "stream",
     "text": [
      "Step 1: Identify spans that are likely to be answers to questions.\n",
      "\n",
      "- \"Sąd Apelacyjny we Wrocławiu II Wydział Karny\"\n",
      "- \"SA Edyta Gajgał\"\n",
      "- \"Leszka Pruskiego\"\n",
      "- \"sprawy G. K.\"\n",
      "- \"art. 280 § 2 kk\"\n",
      "- \"20 października 2015 r. sygn. akt III K 43/15\"\n",
      "- \"obniża do 3 ( trzech) lat pozbawienia wolności\"\n",
      "- \"600 złotych tytułem kosztów nieopłaconej pomocy prawnej\"\n",
      "- \"138 zł tytułem zwrotu VAT\"\n",
      "\n",
      "Step 2: For each identified span, generate a question.\n",
      "\n",
      "- \"What was the department involved in judgment?\"\n",
      "- \"Who was one of the Judges involved?\"\n",
      "- \"Who was the prosecutor involved in the case?\"\n",
      "- \"Whose case was this about?\"\n",
      "- \"According to which act was the accused blamed for?\"\n",
      "- \"When was the first verdict in this case given?\"\n",
      "- \"What was the updated sentencing duration on appeal?\"\n",
      "- \"What was the fee for the unpaid legal aid provided?\"\n",
      "- \"How much VAT was refunded?\"\n",
      "\n",
      "Step 3: Respond to the question in only a few tokens concisely.\n",
      "  \n",
      "- \"Sąd Apelacyjny we Wrocławiu II Wydział Karny\"\n",
      "- \"SA Edyta Gajgał\"\n",
      "- \"Leszka Pruskiego\"\n",
      "- \"G. K.\"\n",
      "- \"art. 280 § 2 kk\"\n",
      "- \"20th October 2015, sygn. akt III K 43/15\"\n",
      "- \"Reduced to 3 years of imprisonment\"\n",
      "- \"600 złotych\"\n",
      "- \"138 złotych\"\n",
      "\n",
      "Step 4: Output in JSON format.\n",
      "\n",
      "[ \n",
      " {\"question\": \"What was the department involved in judgment?\", \"answer\" : \"Sąd Apelacyjny we Wrocławiu II Wydział Karny\"},\n",
      " {\"question\" : \"Who was one of the Judges involved?\", \"answer\" : \"SA Edyta Gajgał\"},\n",
      " {\"question\": \"Who was the prosecutor involved in the case?\", \"answer\" : \"Leszka Pruskiego\"}, \n",
      " {\"question\": \" Whose case was this about?\", \"answer\" : \"G. K.\"}, \n",
      " {\"question\" : \"According to which act was the accused blamed for?\", \"answer\" : \"art. 280 § 2 kk\"}, \n",
      " {\"question\" : \"When was the first verdict in this case given?\", \"answer\" : \"20th October 2015, sygn. akt III K 43/15\"}, \n",
      " {\"question\" : \"What was the updated sentencing duration on appeal?\", \"answer\" : \"Reduced to 3 years of imprisonment\"},\n",
      " {\"question\" : \"What was the fee for the unpaid legal aid provided?\", \"answer\" : \"600 złotych\"} ,\n",
      " {\"question\" : \"How much VAT was refunded?\", \"answer\" : \"138 złotych\"}\n",
      "]\n",
      "\n",
      " ================================================================================\n"
     ]
    }
   ],
   "source": [
    "for gen_uttermsg in dataset.output[\"qa_json_list\"]:\n",
    "    print(gen_uttermsg)\n",
    "    "
   ]
  },
  {
   "cell_type": "code",
   "execution_count": null,
   "metadata": {},
   "outputs": [],
   "source": []
  }
 ],
 "metadata": {
  "kernelspec": {
   "display_name": "base",
   "language": "python",
   "name": "python3"
  },
  "language_info": {
   "codemirror_mode": {
    "name": "ipython",
    "version": 3
   },
   "file_extension": ".py",
   "mimetype": "text/x-python",
   "name": "python",
   "nbconvert_exporter": "python",
   "pygments_lexer": "ipython3",
   "version": "3.10.8"
  },
  "orig_nbformat": 4
 },
 "nbformat": 4,
 "nbformat_minor": 2
}
