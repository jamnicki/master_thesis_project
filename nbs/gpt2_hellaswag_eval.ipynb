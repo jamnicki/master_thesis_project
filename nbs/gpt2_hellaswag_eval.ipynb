{
 "cells": [
  {
   "cell_type": "code",
   "execution_count": 1,
   "metadata": {},
   "outputs": [],
   "source": [
    "import torch\n",
    "from torch.utils.data import DataLoader\n",
    "from datasets import load_dataset\n",
    "from transformers import AutoTokenizer, AutoModelForCausalLM, DataCollatorForLanguageModeling\n",
    "from transformers import pipeline\n",
    "\n",
    "import numpy as np\n",
    "from tqdm.autonotebook import tqdm\n",
    "from typing import Dict, Any, List, Tuple, Optional\n",
    "from dataclasses import dataclass\n",
    "\n",
    "from src.settings import MODELS_DIR"
   ]
  },
  {
   "cell_type": "code",
   "execution_count": 2,
   "metadata": {},
   "outputs": [
    {
     "data": {
      "text/plain": [
       "device(type='cuda', index=0)"
      ]
     },
     "execution_count": 2,
     "metadata": {},
     "output_type": "execute_result"
    }
   ],
   "source": [
    "DEVICE = torch.device(\"cuda:0\" if torch.cuda.is_available() else \"cpu\")\n",
    "DEVICE"
   ]
  },
  {
   "cell_type": "code",
   "execution_count": 3,
   "metadata": {},
   "outputs": [],
   "source": [
    "MODEL = \"gpt2\"\n",
    "DATASET = \"Rowan/hellaswag\""
   ]
  },
  {
   "cell_type": "code",
   "execution_count": 4,
   "metadata": {},
   "outputs": [
    {
     "data": {
      "text/plain": [
       "Dataset({\n",
       "    features: ['ind', 'activity_label', 'ctx_a', 'ctx_b', 'ctx', 'endings', 'source_id', 'split', 'split_type', 'label'],\n",
       "    num_rows: 10003\n",
       "})"
      ]
     },
     "execution_count": 4,
     "metadata": {},
     "output_type": "execute_result"
    }
   ],
   "source": [
    "dataset = load_dataset(DATASET, split=\"test\")\n",
    "dataset"
   ]
  },
  {
   "cell_type": "code",
   "execution_count": 5,
   "metadata": {},
   "outputs": [
    {
     "data": {
      "text/plain": [
       "{'ind': 14,\n",
       " 'activity_label': 'Wakeboarding',\n",
       " 'ctx_a': 'A man is being pulled on a water ski as he floats in the water casually.',\n",
       " 'ctx_b': 'he',\n",
       " 'ctx': 'A man is being pulled on a water ski as he floats in the water casually. he',\n",
       " 'endings': ['mounts the water ski and tears through the water at fast speeds.',\n",
       "  'goes over several speeds, trying to stay upright.',\n",
       "  'struggles a little bit as he talks about it.',\n",
       "  'is seated in a boat with three other people.'],\n",
       " 'source_id': 'activitynet~v_-5KAycAQlC4',\n",
       " 'split': 'test',\n",
       " 'split_type': 'indomain',\n",
       " 'label': ''}"
      ]
     },
     "execution_count": 5,
     "metadata": {},
     "output_type": "execute_result"
    }
   ],
   "source": [
    "dataset[0]"
   ]
  },
  {
   "cell_type": "code",
   "execution_count": 17,
   "metadata": {},
   "outputs": [],
   "source": [
    "model = AutoModelForCausalLM.from_pretrained(MODEL).to(DEVICE)\n",
    "tokenizer = AutoTokenizer.from_pretrained(MODEL, padding_side=\"left\")\n",
    "tokenizer.pad_token = tokenizer.eos_token"
   ]
  },
  {
   "cell_type": "code",
   "execution_count": 18,
   "metadata": {},
   "outputs": [],
   "source": [
    "def preprocess_hellaswag_batch(examples: Dict[str, Any]) -> Tuple[List[str], List[str]]:\n",
    "    inputs = examples[\"ctx\"]\n",
    "    targets = examples[\"endings\"]\n",
    "    return inputs, targets\n",
    "\n",
    "\n",
    "@dataclass\n",
    "class HellaSwagInputsEncoder:\n",
    "    tokenizer: AutoTokenizer\n",
    "    max_seq_length: int\n",
    "\n",
    "    def convert_to_features_train(\n",
    "        self,\n",
    "        example_batch: Dict[str, Any],\n",
    "        indices: Optional[List[int]] = None\n",
    "    ) -> Any:\n",
    "        inputs, text_target = preprocess_hellaswag_batch(example_batch)\n",
    "\n",
    "        model_inputs = self.tokenizer(\n",
    "            # inputs, text_target=text_target, max_length=self.max_seq_length, truncation=True\n",
    "            inputs, max_length=self.max_seq_length, truncation=True\n",
    "        )\n",
    "        return model_inputs\n",
    "\n",
    "    def __call__(\n",
    "        self,\n",
    "        example_batch: Dict[str, Any],\n",
    "        indices: Optional[List[int]] = None\n",
    "    ) -> Any:\n",
    "        return self.convert_to_features_train(\n",
    "            example_batch=example_batch, indices=indices\n",
    "        )"
   ]
  },
  {
   "cell_type": "code",
   "execution_count": 19,
   "metadata": {},
   "outputs": [
    {
     "data": {
      "text/plain": [
       "['ind',\n",
       " 'activity_label',\n",
       " 'ctx_a',\n",
       " 'ctx_b',\n",
       " 'ctx',\n",
       " 'endings',\n",
       " 'source_id',\n",
       " 'split',\n",
       " 'split_type',\n",
       " 'label']"
      ]
     },
     "execution_count": 19,
     "metadata": {},
     "output_type": "execute_result"
    }
   ],
   "source": [
    "loader_columns = [\n",
    "    'datasets_idx',\n",
    "    'input_ids',\n",
    "    'token_type_ids',\n",
    "    'attention_mask',\n",
    "    'start_positions',\n",
    "    'end_positions',\n",
    "    'labels'\n",
    "]\n",
    "columns_to_ignore = [c for c in dataset.column_names if c not in loader_columns]\n",
    "columns_to_ignore"
   ]
  },
  {
   "cell_type": "code",
   "execution_count": 20,
   "metadata": {},
   "outputs": [
    {
     "data": {
      "application/vnd.jupyter.widget-view+json": {
       "model_id": "961e02a4a04542b5804ffee57eeb79ca",
       "version_major": 2,
       "version_minor": 0
      },
      "text/plain": [
       "Map:   0%|          | 0/10003 [00:00<?, ? examples/s]"
      ]
     },
     "metadata": {},
     "output_type": "display_data"
    },
    {
     "name": "stderr",
     "output_type": "stream",
     "text": [
      "Exception ignored in: <function tqdm.__del__ at 0x7f02af35e440>\n",
      "Traceback (most recent call last):\n",
      "  File \"/opt/conda/lib/python3.10/site-packages/tqdm/std.py\", line 1162, in __del__\n",
      "    self.close()\n",
      "  File \"/opt/conda/lib/python3.10/site-packages/tqdm/notebook.py\", line 288, in close\n",
      "    self.disp(bar_style='danger', check_delay=False)\n",
      "AttributeError: 'tqdm_notebook' object has no attribute 'disp'\n"
     ]
    }
   ],
   "source": [
    "encoder = HellaSwagInputsEncoder(tokenizer=tokenizer, max_seq_length=384)\n",
    "\n",
    "dataset_transformed = dataset.map(\n",
    "    encoder,\n",
    "    batched=True,\n",
    "    remove_columns=columns_to_ignore,\n",
    ")"
   ]
  },
  {
   "cell_type": "code",
   "execution_count": 21,
   "metadata": {},
   "outputs": [],
   "source": [
    "BATCH_SIZE = 32\n",
    "\n",
    "data_collator = DataCollatorForLanguageModeling(\n",
    "    tokenizer=tokenizer,\n",
    "    mlm=False,\n",
    ")\n",
    "test_dl = DataLoader(\n",
    "    dataset_transformed, batch_size=BATCH_SIZE, shuffle=False, collate_fn=data_collator, pin_memory=True\n",
    ")\n",
    "test_dl_src = DataLoader(dataset, batch_size=BATCH_SIZE, shuffle=False, pin_memory=True)"
   ]
  },
  {
   "cell_type": "code",
   "execution_count": 22,
   "metadata": {},
   "outputs": [
    {
     "name": "stderr",
     "output_type": "stream",
     "text": [
      "You're using a GPT2TokenizerFast tokenizer. Please note that with a fast tokenizer, using the `__call__` method is faster than using a method to encode the text followed by a call to the `pad` method to get a padded encoding.\n"
     ]
    },
    {
     "data": {
      "text/plain": [
       "dict_keys(['input_ids', 'attention_mask', 'labels'])"
      ]
     },
     "execution_count": 22,
     "metadata": {},
     "output_type": "execute_result"
    }
   ],
   "source": [
    "next(iter(test_dl)).keys()"
   ]
  },
  {
   "cell_type": "code",
   "execution_count": 32,
   "metadata": {},
   "outputs": [
    {
     "data": {
      "application/vnd.jupyter.widget-view+json": {
       "model_id": "09a5b17674f84933ae22f6107b7b1d4e",
       "version_major": 2,
       "version_minor": 0
      },
      "text/plain": [
       "0it [00:00, ?it/s]"
      ]
     },
     "metadata": {},
     "output_type": "display_data"
    },
    {
     "name": "stderr",
     "output_type": "stream",
     "text": [
      "Setting `pad_token_id` to `eos_token_id`:50256 for open-end generation.\n"
     ]
    },
    {
     "name": "stdout",
     "output_type": "stream",
     "text": [
      "Text: \"A man is being pulled on a water ski as he floats in the water casually. he\"\n",
      "Predicted ending:\n",
      "A man is being pulled on a water ski as he floats in the water casually. he is wearing a ski mask and a ski mask with a ski mask on. He is also carrying a black backpack with him when he is not in the water. He is also carrying a black backpack with him when he is not in the water. Photo: Supplied\n",
      "\n",
      "A man\n",
      "\n",
      "Correct endings:\n",
      "\t - mounts the water ski and tears through the water at fast speeds.\n",
      "\t - are water boarding in a river.\n",
      "\t - run out to where the javelin lands again.\n",
      "\t - do the same action but in different locations.\n",
      "\t - , another man does not throw his javelin.\n",
      "\t - # 1, but drops his javelin.\n",
      "\t - in windsurfer gear sits off to the side of the table talking.\n",
      "\t - puts a bronze medal on the third thrower.\n",
      "\t - picks up the ingredients and puts them on the baking sheet.\n",
      "\t - then adds toasted graham bears to a pot filled with water.\n",
      "\t - then pours the rest of it in a bowl, setting it onto a cookie sheet.\n",
      "\t - mixed pasta into a silver pot full of boiling water.\n",
      "\t - approaches another canoe in the water, this one blue, the red canoe and blue canoe raft through the waters behind one another as the scene fades to black.\n",
      "\t - see the closing screen on black.\n",
      "\t - right behind the coach begins to talk.\n",
      "\t - , the man grans the handle of the machine.\n",
      "\t - wheel a box down after them, then finish on top.\n",
      "\t - are seen skiing down a hill again.\n",
      "\t - are shown falling down while in the air and occasionally throwing themselves off.\n",
      "\t - puts on makeup then sinks.\n",
      "\t - drys her hair while she spins her hair on a brush.\n",
      "\t - turns the blow dryer off and talks to the camera while she adjusts her hair.\n",
      "\t - puts her brush down and talks to the camera.\n",
      "\t - and yellow plaid shorts show the belly button of a machine as she rubs milk from a bucket in the bottom of the machine.\n",
      "\t - continue dancing and spin each other around and doing a some type of salsa dancing.\n",
      "\t - practicing shots with a bow to a board in a large field.\n",
      "\t - walk up another stair case.\n",
      "\t - hold ladies and dance with them while holding one girl, with the girls sitting with one then holding the pom poms.\n",
      "\t - walks away and looks to the camera.\n",
      "\t - continuously spins in circles.\n",
      "\t - zooms in on the back of the animal that has no legs attached and is lying on the grass.\n",
      "\t - ride in that aren't wearing a saddle.\n",
      "\n",
      " -------------------------------------------------------------------------------- \n",
      "\n",
      "Text: \"A huge crowd is in the stands in an arena. A man throws a javelin. Photographers take pictures in the background. several men\"\n",
      "Predicted ending:\n",
      "A huge crowd is in the stands in an arena. A man throws a javelin. Photographers take pictures in the background. several men are standing in the stands.\n",
      "\n",
      "The crowd is chanting \"We are the people!\"\n",
      "\n",
      "The crowd is chanting \"We are the people!\"\n",
      "\n",
      "The crowd is chanting \"We are the people!\"\n",
      "\n",
      "The crowd is chanting \"We are the people!\"\n",
      "\n",
      "The\n",
      "\n",
      "Correct endings:\n",
      "\t - goes over several speeds, trying to stay upright.\n",
      "\t - are shown throwing balls.\n",
      "\t - throw balls onto a field.\n",
      "\t - from inside the gym compete as well as finish.\n",
      "\t - the fourth man runs off.\n",
      "\t - runs around celebrating and hugs another man.\n",
      "\t - at the top of a hill wearing a white coat, holding a water bottle and grabbing a cup with a straw.\n",
      "\t - then holds up his bow and arrow and shoots a feathered arrow.\n",
      "\t - shows several different cakes and tastes them in between.\n",
      "\t - then starts cooking some cooked pasta and stirring it.\n",
      "\t - then mixes cheese, orzo, and vegetables, creating an orzo pasta salad.\n",
      "\t - takes a bite of the food.\n",
      "\t - stops to adjust their harness before, finally, rafting into the water and riding through turbulent rocky waters interspersed with oversized rocks and flashing flashing lights.\n",
      "\t - see the ending title screen.\n",
      "\t - gives instruction to the two fencing competitors.\n",
      "\t - , the man shows the mirror where his cardio machine is held.\n",
      "\t - ride down twisting ways on skis with one another.\n",
      "\t - hang on to poles as they tumble down.\n",
      "\t - are shown going around on skis showing the runs they have taken and skiing.\n",
      "\t - shows the camera her brush and blow dryer.\n",
      "\t - dries her hair and blows dry her hair.\n",
      "\t - blows blow drys her hair while she spins her hair.\n",
      "\t - blow drys her hair and shows her hair off and cuts it turning the camera off.\n",
      "\t - are standing in a room across from each other in a messy room.\n",
      "\t - clap their hands and jump up making head and waist movements.\n",
      "\t - sanding on a wall and a man is playing guitar.\n",
      "\t - are lifted and they hold one girl in between them laying down.\n",
      "\t - are lifted and hold two other ladies then a seventh lady.\n",
      "\t - continues to play around in the soil while the camera watches their hand movements.\n",
      "\t - crashes into the ball and causes the other child to fall.\n",
      "\t - then shows the horse's feet as well as the straps to the saddle on it.\n",
      "\t - appear riding a horseback with the horses, and then leads into the couple riding down a dimly lit street and speaking to each other.\n",
      "\n",
      " -------------------------------------------------------------------------------- \n",
      "\n",
      "Text: \"The man that threw the javelin celebrates. Another man throws a javelin. People walk all around doing different things. several men\"\n",
      "Predicted ending:\n",
      "The man that threw the javelin celebrates. Another man throws a javelin. People walk all around doing different things. several men throw javelins.\n",
      "\n",
      "The man that threw the javelin celebrates. Another man throws a javelin. People walk all around doing different things. several men throw javelins. The man that threw the javelin celebrates. Another man throws a javelin\n",
      "\n",
      "Correct endings:\n",
      "\t - struggles a little bit as he talks about it.\n",
      "\t - challenge the man to jump onto the rope.\n",
      "\t - do acrobatics on a high ledge.\n",
      "\t - run to the the javelin's landing spot.\n",
      "\t - , the men run to where the javelin lands.\n",
      "\t - successfully the number 174.\n",
      "\t - puts a gold medal around the neck of the first javelin thrower and shakes his hand.\n",
      "\t - puts a gold cross around the neck of the second javelin thrower.\n",
      "\t - holds up three red pots sitting atop the stove.\n",
      "\t - boils pasta in a pot, draining it.\n",
      "\t - then puts it back in the pot and grinds it.\n",
      "\t - adds the pasta onto a frying pan.\n",
      "\t - then paddles into the waves and lifts the person in the red canoe to assist him.\n",
      "\t - then see an starting title screen.\n",
      "\t - explains to show how to use fencing to demonstrate some form.\n",
      "\t - , the young man begins to pumped the air into his lungs with an oxygen pump.\n",
      "\t - tube down the snowy hills.\n",
      "\t - ride along in tubes and continue climbing down the slope.\n",
      "\t - are in the background watching and doing different things in the snow.\n",
      "\t - place another towel on the floor and then kiss the towels.\n",
      "\t - dries her hair and irons it.\n",
      "\t - stands up and holds the loose hair out by her head.\n",
      "\t - turns the blow dryer on again and uses a roller to fix it.\n",
      "\t - are wearing scuba diving gear as they fight over impossible objects.\n",
      "\t - move back and forth on the floor while feet are walking adjacent to them.\n",
      "\t - wearing gardening clothes and is walking on the fields walking into bushes.\n",
      "\t - step onto a blue mat.\n",
      "\t - hold the one person in front of them down on their guys.\n",
      "\t - walks in and out of frame and leads into people playing one another.\n",
      "\t - breaks a toy.\n",
      "\t - zooms in to shows the horse' nose and then the woman climbs onto the horse's saddle to ride it somewhere.\n",
      "\t - are hsown riding the horse's in different settings.\n",
      "\n",
      " -------------------------------------------------------------------------------- \n",
      "\n",
      "Text: \"The second man to throw the javelin and a man in the stands celebrate. A third man throws a javelin so hard that he falls. the same men\"\n",
      "Predicted ending:\n",
      "The second man to throw the javelin and a man in the stands celebrate. A third man throws a javelin so hard that he falls. the same men celebrate.\n",
      "\n",
      "The third man to throw the javelin and a man in the stands celebrate. A third man throws a javelin so hard that he falls. the same men celebrate.\n",
      "\n",
      "The third man to throw the javelin and a man in the stands\n",
      "\n",
      "Correct endings:\n",
      "\t - is seated in a boat with three other people.\n",
      "\t - run to where the javelin lands.\n",
      "\t - bow and dance around doing different things.\n",
      "\t - also fall to the ground as they shuffle for a stand.\n",
      "\t - , a fourth man throws a javelin on the field.\n",
      "\t - does by standing up and receiving his men.\n",
      "\t - wearing a hood is seen being interviewed by the interviewer as they continue to run.\n",
      "\t - makes a discus in the air.\n",
      "\t - shows a plate of food, and several ingredients.\n",
      "\t - separates these into two sections, and begins cutting them.\n",
      "\t - pours the inside of the pasta over the pasta.\n",
      "\t - cuts up some garlic and peel it out of the salad.\n",
      "\t - then climbs in and starts kayaking on a large calm body of water.\n",
      "\t - then see the olympian and a replay of the brawl: two players are handed out and one players left.\n",
      "\t - appears, giving instructional instructions.\n",
      "\t - , the young man lifts the weights, and show how to move himself evenly.\n",
      "\t - stand on a ladder and hold onto the climber.\n",
      "\t - slide down steep fast curves on the intertubes.\n",
      "\t - watch on the sides as the camera flies around the city and continues going on with their walk and end by curling onto the ground.\n",
      "\t - cuts her hair, puts on make up, and shaves her very long hair.\n",
      "\t - dries the hair of a man.\n",
      "\t - holds her hair up with both hands and throws it to the side.\n",
      "\t - then gets a comb and begins blow drying her hair.\n",
      "\t - successfully climbs up a set of steps to the edge of the roof of a house and uses her body to jump down to safety.\n",
      "\t - dance rhythmically together as the boys dance.\n",
      "\t - playing badminton in a room in back and to the sides of the room.\n",
      "\t - run down the stage and stand on a slackline.\n",
      "\t - hold each other between them continue to shuffle and toss and then they ssia each other.\n",
      "\t - spock around the area with the camera following in the end.\n",
      "\t - hits a boy in a car, causing him to go into a car wash.\n",
      "\t - then zooms in on all the horses and the interiors.\n",
      "\t - join the horse on the saddle together and then the woman gets off the saddle and grooms the horse as the people ride into the parking lot.\n",
      "\n",
      " -------------------------------------------------------------------------------- \n",
      "\n"
     ]
    }
   ],
   "source": [
    "with torch.no_grad():\n",
    "    for batch, batch_src in tqdm(zip(test_dl, test_dl_src)):\n",
    "        batch = {k: v.to(DEVICE) for k, v in batch.items()}\n",
    "        predictions = model.generate(\n",
    "            input_ids=batch[\"input_ids\"],\n",
    "            max_length=100,\n",
    "            attention_mask=batch[\"attention_mask\"],\n",
    "        )\n",
    "        decoded_predictions = tokenizer.batch_decode(predictions, skip_special_tokens=True)\n",
    "        for i, (pred, src_ctx, src_endings) in enumerate(zip(decoded_predictions, batch_src[\"ctx\"], batch_src[\"endings\"])):\n",
    "            if i == 4:\n",
    "                break\n",
    "            print(f'Text: \"{src_ctx}\"')\n",
    "            print(f'Predicted ending:\\n{pred}')\n",
    "            print(f\"\\nCorrect endings:\\n\\t - \" + \"\\n\\t - \".join(src_endings))\n",
    "            print(\"\\n\", \"-\" * 80, \"\\n\")\n",
    "\n",
    "        break"
   ]
  },
  {
   "cell_type": "code",
   "execution_count": null,
   "metadata": {},
   "outputs": [],
   "source": []
  }
 ],
 "metadata": {
  "kernelspec": {
   "display_name": "base",
   "language": "python",
   "name": "python3"
  },
  "language_info": {
   "codemirror_mode": {
    "name": "ipython",
    "version": 3
   },
   "file_extension": ".py",
   "mimetype": "text/x-python",
   "name": "python",
   "nbconvert_exporter": "python",
   "pygments_lexer": "ipython3",
   "version": "3.10.8"
  },
  "orig_nbformat": 4
 },
 "nbformat": 4,
 "nbformat_minor": 2
}
