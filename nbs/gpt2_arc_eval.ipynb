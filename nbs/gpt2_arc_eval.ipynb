{
 "cells": [
  {
   "cell_type": "code",
   "execution_count": 1,
   "metadata": {},
   "outputs": [],
   "source": [
    "import torch\n",
    "from torch.utils.data import DataLoader\n",
    "from datasets import load_dataset\n",
    "from transformers import AutoTokenizer, AutoModelForCausalLM, DataCollatorForLanguageModeling, GPT2LMHeadModel, GPT2DoubleHeadsModel\n",
    "from transformers import pipeline\n",
    "\n",
    "import numpy as np\n",
    "from tqdm.autonotebook import tqdm\n",
    "from typing import Dict, Any, List, Tuple, Optional\n",
    "from dataclasses import dataclass\n",
    "\n",
    "from src.settings import MODELS_DIR"
   ]
  },
  {
   "cell_type": "code",
   "execution_count": 2,
   "metadata": {},
   "outputs": [
    {
     "data": {
      "text/plain": [
       "device(type='cuda', index=0)"
      ]
     },
     "execution_count": 2,
     "metadata": {},
     "output_type": "execute_result"
    }
   ],
   "source": [
    "DEVICE = torch.device(\"cuda:0\" if torch.cuda.is_available() else \"cpu\")\n",
    "DEVICE"
   ]
  },
  {
   "cell_type": "code",
   "execution_count": 3,
   "metadata": {},
   "outputs": [],
   "source": [
    "MODEL = \"gpt2\"\n",
    "DATASET = \"ai2_arc\"\n",
    "SUBSET = \"ARC-Challenge\""
   ]
  },
  {
   "cell_type": "code",
   "execution_count": 4,
   "metadata": {},
   "outputs": [
    {
     "data": {
      "text/plain": [
       "Dataset({\n",
       "    features: ['id', 'question', 'choices', 'answerKey'],\n",
       "    num_rows: 1172\n",
       "})"
      ]
     },
     "execution_count": 4,
     "metadata": {},
     "output_type": "execute_result"
    }
   ],
   "source": [
    "dataset = load_dataset(DATASET, SUBSET, split=\"test\")\n",
    "dataset"
   ]
  },
  {
   "cell_type": "code",
   "execution_count": 5,
   "metadata": {},
   "outputs": [
    {
     "data": {
      "text/plain": [
       "{'id': 'Mercury_7175875',\n",
       " 'question': 'An astronomer observes that a planet rotates faster after a meteorite impact. Which is the most likely effect of this increase in rotation?',\n",
       " 'choices': {'text': ['Planetary density will decrease.',\n",
       "   'Planetary years will become longer.',\n",
       "   'Planetary days will become shorter.',\n",
       "   'Planetary gravity will become stronger.'],\n",
       "  'label': ['A', 'B', 'C', 'D']},\n",
       " 'answerKey': 'C'}"
      ]
     },
     "execution_count": 5,
     "metadata": {},
     "output_type": "execute_result"
    }
   ],
   "source": [
    "dataset[0]"
   ]
  },
  {
   "cell_type": "code",
   "execution_count": 6,
   "metadata": {},
   "outputs": [
    {
     "name": "stderr",
     "output_type": "stream",
     "text": [
      "Some weights of GPT2DoubleHeadsModel were not initialized from the model checkpoint at gpt2 and are newly initialized: ['multiple_choice_head.summary.bias', 'multiple_choice_head.summary.weight']\n",
      "You should probably TRAIN this model on a down-stream task to be able to use it for predictions and inference.\n"
     ]
    }
   ],
   "source": [
    "# model = AutoModelForCausalLM.from_pretrained(MODEL).to(DEVICE)\n",
    "model = GPT2DoubleHeadsModel.from_pretrained(MODEL).to(DEVICE)\n",
    "tokenizer = AutoTokenizer.from_pretrained(MODEL, padding_side=\"left\")\n",
    "tokenizer.pad_token = tokenizer.eos_token"
   ]
  },
  {
   "cell_type": "code",
   "execution_count": 7,
   "metadata": {},
   "outputs": [
    {
     "name": "stdout",
     "output_type": "stream",
     "text": [
      "Answer the following question. Pick one from the given options (A, B, C or D).\n",
      "\n",
      "Question: An astronomer observes that a planet rotates faster after a meteorite impact. Which is the most likely effect of this increase in rotation?\n",
      "\n",
      "Options:\n",
      "\tA. Planetary density will decrease.\n",
      "\tB. Planetary years will become longer.\n",
      "\tC. Planetary days will become shorter.\n",
      "\tD. Planetary gravity will become stronger.\n",
      "\n",
      "The correct answer is \n"
     ]
    }
   ],
   "source": [
    "def constrruct_prompt(question: str, options: List[str], enum_lettters=\"ABCD\"):\n",
    "    instructions = (\n",
    "        f\"Answer the following question. Pick one from the given options ({', '.join(enum_lettters[:-1])} or {enum_lettters[-1]}).\"\n",
    "    )\n",
    "    prompt = instructions + \"\\n\\n\" + \"Question: {question}\\n\\nOptions:\\n\\t{options}\\n\\nThe correct answer is \"\n",
    "    options_str = \"\\n\\t\".join(f\"{letter}. {choice}\" for letter, choice in zip(enum_lettters, options))\n",
    "    return prompt.format(question=question, options=options_str)\n",
    "\n",
    "prompt = constrruct_prompt(\n",
    "    question=dataset[0][\"question\"],\n",
    "    options=dataset[0][\"choices\"][\"text\"],\n",
    "    enum_lettters=dataset[0][\"choices\"][\"label\"]\n",
    ")\n",
    "print(prompt)"
   ]
  },
  {
   "cell_type": "code",
   "execution_count": 8,
   "metadata": {},
   "outputs": [],
   "source": [
    "def preprocess_arc_batch(examples: Dict[str, Any]) -> Tuple[List[str], List[str]]:\n",
    "    questions = examples[\"question\"]\n",
    "    choices = examples[\"choices\"]\n",
    "    choices_text_batch, choices_labels_batch = zip(*[(choice[\"text\"], choice[\"label\"]) for choice in choices])\n",
    "\n",
    "    inputs = [\n",
    "        constrruct_prompt(question, options, option_labels)\n",
    "        for question, options, option_labels in zip(questions, choices_text_batch, choices_labels_batch)\n",
    "    ]\n",
    "    targets = examples[\"answerKey\"]\n",
    "    return inputs, targets\n",
    "\n",
    "\n",
    "@dataclass\n",
    "class InputsEncoder:\n",
    "    tokenizer: AutoTokenizer\n",
    "    max_seq_length: int\n",
    "\n",
    "    def convert_to_features_train(\n",
    "        self,\n",
    "        example_batch: Dict[str, Any],\n",
    "        indices: Optional[List[int]] = None\n",
    "    ) -> Any:\n",
    "        inputs, text_target = preprocess_arc_batch(example_batch)\n",
    "\n",
    "        model_inputs = self.tokenizer(\n",
    "            inputs, text_target=text_target, max_length=self.max_seq_length, truncation=True\n",
    "        )\n",
    "        return model_inputs\n",
    "\n",
    "    def __call__(\n",
    "        self,\n",
    "        example_batch: Dict[str, Any],\n",
    "        indices: Optional[List[int]] = None\n",
    "    ) -> Any:\n",
    "        return self.convert_to_features_train(\n",
    "            example_batch=example_batch, indices=indices\n",
    "        )"
   ]
  },
  {
   "cell_type": "code",
   "execution_count": 9,
   "metadata": {},
   "outputs": [
    {
     "data": {
      "text/plain": [
       "['id', 'question', 'choices', 'answerKey']"
      ]
     },
     "execution_count": 9,
     "metadata": {},
     "output_type": "execute_result"
    }
   ],
   "source": [
    "loader_columns = [\n",
    "    'datasets_idx',\n",
    "    'input_ids',\n",
    "    'token_type_ids',\n",
    "    'attention_mask',\n",
    "    'start_positions',\n",
    "    'end_positions',\n",
    "    'labels'\n",
    "]\n",
    "columns_to_ignore = [c for c in dataset.column_names if c not in loader_columns]\n",
    "columns_to_ignore"
   ]
  },
  {
   "cell_type": "code",
   "execution_count": 10,
   "metadata": {},
   "outputs": [
    {
     "data": {
      "application/vnd.jupyter.widget-view+json": {
       "model_id": "42ccbd33ed154d279ba85887cbde6d28",
       "version_major": 2,
       "version_minor": 0
      },
      "text/plain": [
       "Map:   0%|          | 0/1172 [00:00<?, ? examples/s]"
      ]
     },
     "metadata": {},
     "output_type": "display_data"
    }
   ],
   "source": [
    "encoder = InputsEncoder(tokenizer=tokenizer, max_seq_length=384)\n",
    "\n",
    "dataset_transformed = dataset.map(\n",
    "    encoder,\n",
    "    batched=True,\n",
    "    remove_columns=columns_to_ignore,\n",
    ")"
   ]
  },
  {
   "cell_type": "code",
   "execution_count": 11,
   "metadata": {},
   "outputs": [],
   "source": [
    "BATCH_SIZE = 32\n",
    "\n",
    "data_collator = DataCollatorForLanguageModeling(\n",
    "    tokenizer=tokenizer,\n",
    "    mlm=False,\n",
    ")\n",
    "test_dl = DataLoader(\n",
    "    dataset_transformed, batch_size=BATCH_SIZE, shuffle=False, collate_fn=data_collator, pin_memory=True\n",
    ")"
   ]
  },
  {
   "cell_type": "code",
   "execution_count": 12,
   "metadata": {},
   "outputs": [
    {
     "name": "stderr",
     "output_type": "stream",
     "text": [
      "You're using a GPT2TokenizerFast tokenizer. Please note that with a fast tokenizer, using the `__call__` method is faster than using a method to encode the text followed by a call to the `pad` method to get a padded encoding.\n"
     ]
    },
    {
     "data": {
      "text/plain": [
       "dict_keys(['input_ids', 'attention_mask', 'labels'])"
      ]
     },
     "execution_count": 12,
     "metadata": {},
     "output_type": "execute_result"
    }
   ],
   "source": [
    "next(iter(test_dl)).keys()"
   ]
  },
  {
   "cell_type": "code",
   "execution_count": 13,
   "metadata": {},
   "outputs": [
    {
     "data": {
      "application/vnd.jupyter.widget-view+json": {
       "model_id": "e132c7b27dcf4019936981e7a1f25963",
       "version_major": 2,
       "version_minor": 0
      },
      "text/plain": [
       "  0%|          | 0/37 [00:00<?, ?it/s]"
      ]
     },
     "metadata": {},
     "output_type": "display_data"
    },
    {
     "name": "stderr",
     "output_type": "stream",
     "text": [
      "Setting `pad_token_id` to `eos_token_id`:50256 for open-end generation.\n"
     ]
    },
    {
     "name": "stdout",
     "output_type": "stream",
     "text": [
      "-------------------------------------------------------------------------------- \n",
      " Answer the following question. Pick one from the given options (A, B, C or D).\n",
      "\n",
      "Question: An astronomer observes that a planet rotates faster after a meteorite impact. Which is the most likely effect of this increase in rotation?\n",
      "\n",
      "Options:\n",
      "\tA. Planetary density will decrease.\n",
      "\tB. Planetary years will become longer.\n",
      "\tC. Planetary days will become shorter.\n",
      "\tD. Planetary gravity will become stronger.\n",
      "\n",
      "The correct answer is ____.\n",
      "\n",
      "Answer: An astronomer observes that a planet rotates faster after a meteorite impact. Which is the most likely effect of this increase in rotation?\n",
      "\n",
      "Option:\n",
      "\n",
      "IreA. The planet rotates faster after a meteorite impact. Which is the most likely effect of this increase in rotation?\n",
      "\n",
      "Option:\n",
      "\n",
      "IreB. The planet rotates faster after a meteorite impact. Which is the most likely effect of this increase in rotation?\n",
      "\n",
      "Option:\n",
      "\n",
      "IreC. The planet rotates faster after a meteorite impact. Which is the most likely effect of this increase in rotation?\n",
      "\n",
      "Option:\n",
      "\n",
      "IreD. The planet rotates faster after a meteorite impact. Which is the most likely effect of this increase in rotation?\n",
      "\n",
      "Option:\n",
      "\n",
      "IreE. The planet rotates faster after a meteorite impact. Which is the most likely effect of this increase in rotation?\n",
      "\n",
      "Option:\n",
      "\n",
      "IreF. The planet rotates faster after a meteorite impact. Which is the most likely effect\n",
      "-------------------------------------------------------------------------------- \n",
      " Answer the following question. Pick one from the given options (A, B, C or D).\n",
      "\n",
      "Question: A group of engineers wanted to know how different building designs would respond during an earthquake. They made several models of buildings and tested each for its ability to withstand earthquake conditions. Which will most likely result from testing different building designs?\n",
      "\n",
      "Options:\n",
      "\tA. buildings will be built faster\n",
      "\tB. buildings will be made safer\n",
      "\tC. building designs will look nicer\n",
      "\tD. building materials will be cheaper\n",
      "\n",
      "The correct answer is ____.\n",
      "\n",
      "Question: A group of engineers wanted to know how different building designs would respond during an earthquake. They made several models of buildings and tested each for its ability to withstand earthquake conditions. Which will most likely result from testing different building designs?\n",
      "\n",
      "Options:\n",
      "\n",
      "IreA. buildings will be built faster\n",
      "\n",
      "IreB. buildings will be made safer\n",
      "\n",
      "IreC. buildings will look nicer\n",
      "\n",
      "IreD. buildings will look nicer\n",
      "\n",
      "IreE. buildings will look nicer\n",
      "\n",
      "IreF. buildings will look nicer\n",
      "\n",
      "IreG. buildings will look nicer\n",
      "\n",
      "IreH. buildings will look nicer\n",
      "\n",
      "IreI. buildings will look nicer\n",
      "\n",
      "IreJ. buildings will look nicer\n",
      "\n",
      "IreK. buildings will look nicer\n",
      "\n",
      "IreL. buildings will look nicer\n",
      "\n",
      "IreM. buildings will look nicer\n",
      "\n",
      "IreN. buildings will look nicer\n",
      "\n",
      "IreO. buildings will look nicer\n",
      "\n",
      "IreP. buildings will look nicer\n",
      "\n",
      "IreQ. buildings will look nicer\n",
      "\n",
      "IreR. buildings will look nicer\n",
      "-------------------------------------------------------------------------------- \n",
      " Answer the following question. Pick one from the given options (A, B, C or D).\n",
      "\n",
      "Question: The end result in the process of photosynthesis is the production of sugar and oxygen. Which step signals the beginning of photosynthesis?\n",
      "\n",
      "Options:\n",
      "\tA. Chemical energy is absorbed through the roots.\n",
      "\tB. Light energy is converted to chemical energy.\n",
      "\tC. Chlorophyll in the leaf captures light energy.\n",
      "\tD. Sunlight is converted into chlorophyll.\n",
      "\n",
      "The correct answer is ____.\n",
      "\n",
      "Answer: The end result in the process of photosynthesis is the production of sugar and oxygen. Which step signals the beginning of photosynthesis?\n",
      "\n",
      "Option:\n",
      "\n",
      "Answer: The end result in the process of photosynthesis is the production of sugar and oxygen. Which step signals the beginning of photosynthesis?\n",
      "\n",
      "Option:\n",
      "\n",
      "Answer: The end result in the process of photosynthesis is the production of sugar and oxygen. Which step signals the beginning of photosynthesis?\n",
      "\n",
      "Option:\n",
      "\n",
      "Answer: The end result in the process of photosynthesis is the production of sugar and oxygen. Which step signals the beginning of photosynthesis?\n",
      "\n",
      "Option:\n",
      "\n",
      "Answer: The end result in the process of photosynthesis is the production of sugar and oxygen. Which step signals the beginning of photosynthesis?\n",
      "\n",
      "Option:\n",
      "\n",
      "Answer: The end result in the process of photosynthesis is the production of sugar and oxygen. Which step signals the beginning of photosynthesis?\n",
      "\n",
      "Option:\n",
      "\n",
      "Answer: The end result in the process of photosynthesis\n",
      "-------------------------------------------------------------------------------- \n",
      " Answer the following question. Pick one from the given options (A, B, C or D).\n",
      "\n",
      "Question: A physicist wants to determine the speed a car must reach to jump over a ramp. The physicist conducts three trials. In trials two and three, the speed of the car is increased by 20 miles per hour. What is the physicist investigating when he changes the speed?\n",
      "\n",
      "Options:\n",
      "\tA. the control\n",
      "\tB. the hypothesis statement\n",
      "\tC. the dependent (responding) variable\n",
      "\tD. the independent (manipulated) variable\n",
      "\n",
      "The correct answer is �\n"
     ]
    }
   ],
   "source": [
    "\n",
    "with torch.no_grad():\n",
    "    for batch in tqdm(test_dl):\n",
    "        batch = {k: v.to(DEVICE) for k, v in batch.items()}\n",
    "        predictions = model.generate(\n",
    "            input_ids=batch[\"input_ids\"],\n",
    "            max_length=encoder.max_seq_length,\n",
    "            attention_mask=batch[\"attention_mask\"],\n",
    "        )\n",
    "        decoded_predictions = tokenizer.batch_decode(predictions, skip_special_tokens=True)\n",
    "        for i, pred in enumerate(decoded_predictions):\n",
    "            if i == 4:\n",
    "                break\n",
    "            print(\"-\" * 80, \"\\n\", pred)\n",
    "\n",
    "        break"
   ]
  },
  {
   "cell_type": "code",
   "execution_count": null,
   "metadata": {},
   "outputs": [],
   "source": []
  }
 ],
 "metadata": {
  "kernelspec": {
   "display_name": "base",
   "language": "python",
   "name": "python3"
  },
  "language_info": {
   "codemirror_mode": {
    "name": "ipython",
    "version": 3
   },
   "file_extension": ".py",
   "mimetype": "text/x-python",
   "name": "python",
   "nbconvert_exporter": "python",
   "pygments_lexer": "ipython3",
   "version": "3.10.8"
  },
  "orig_nbformat": 4
 },
 "nbformat": 4,
 "nbformat_minor": 2
}
