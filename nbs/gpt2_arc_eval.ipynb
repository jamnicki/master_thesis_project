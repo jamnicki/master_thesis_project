{
 "cells": [
  {
   "cell_type": "code",
   "execution_count": 1,
   "metadata": {},
   "outputs": [],
   "source": [
    "%reload_ext autoreload\n",
    "%autoreload 2"
   ]
  },
  {
   "cell_type": "code",
   "execution_count": 2,
   "metadata": {},
   "outputs": [],
   "source": [
    "import torch\n",
    "from torch.utils.data import DataLoader\n",
    "from datasets import load_dataset\n",
    "from transformers import AutoTokenizer, AutoModelForCausalLM, DataCollatorForLanguageModeling, GPT2LMHeadModel, GPT2DoubleHeadsModel\n",
    "\n",
    "from tqdm.autonotebook import tqdm\n",
    "\n",
    "from src.settings import MODELS_DIR\n",
    "from src.data.utils.ARC_utils import construct_ARC_prompt\n",
    "from src.data.encoders.ARC_encoder import ARCInputsEncoder"
   ]
  },
  {
   "cell_type": "code",
   "execution_count": 3,
   "metadata": {},
   "outputs": [
    {
     "data": {
      "text/plain": [
       "device(type='cuda', index=0)"
      ]
     },
     "execution_count": 3,
     "metadata": {},
     "output_type": "execute_result"
    }
   ],
   "source": [
    "DEVICE = torch.device(\"cuda:0\" if torch.cuda.is_available() else \"cpu\")\n",
    "DEVICE"
   ]
  },
  {
   "cell_type": "code",
   "execution_count": 4,
   "metadata": {},
   "outputs": [],
   "source": [
    "MODEL = \"gpt2\"\n",
    "DATASET = \"ai2_arc\"\n",
    "SUBSET = \"ARC-Challenge\""
   ]
  },
  {
   "cell_type": "code",
   "execution_count": 5,
   "metadata": {},
   "outputs": [
    {
     "data": {
      "text/plain": [
       "Dataset({\n",
       "    features: ['id', 'question', 'choices', 'answerKey'],\n",
       "    num_rows: 1172\n",
       "})"
      ]
     },
     "execution_count": 5,
     "metadata": {},
     "output_type": "execute_result"
    }
   ],
   "source": [
    "dataset = load_dataset(DATASET, SUBSET, split=\"test\")\n",
    "dataset"
   ]
  },
  {
   "cell_type": "code",
   "execution_count": 6,
   "metadata": {},
   "outputs": [
    {
     "data": {
      "text/plain": [
       "{'id': 'Mercury_7175875',\n",
       " 'question': 'An astronomer observes that a planet rotates faster after a meteorite impact. Which is the most likely effect of this increase in rotation?',\n",
       " 'choices': {'text': ['Planetary density will decrease.',\n",
       "   'Planetary years will become longer.',\n",
       "   'Planetary days will become shorter.',\n",
       "   'Planetary gravity will become stronger.'],\n",
       "  'label': ['A', 'B', 'C', 'D']},\n",
       " 'answerKey': 'C'}"
      ]
     },
     "execution_count": 6,
     "metadata": {},
     "output_type": "execute_result"
    }
   ],
   "source": [
    "dataset[0]"
   ]
  },
  {
   "cell_type": "code",
   "execution_count": 7,
   "metadata": {},
   "outputs": [],
   "source": [
    "model = AutoModelForCausalLM.from_pretrained(MODEL).to(DEVICE)\n",
    "# model = GPT2DoubleHeadsModel.from_pretrained(MODEL).to(DEVICE)\n",
    "\n",
    "# Padding to right instead of left, because:\n",
    "# https://huggingface.co/docs/transformers/model_doc/gpt2#:~:text=GPT%2D2%20is%20a%20model%20with%20absolute%20position%20embeddings%20so%20it%E2%80%99s%20usually%20advised%20to%20pad%20the%20inputs%20on%20the%20right%20rather%20than%20the%20left.\n",
    "tokenizer = AutoTokenizer.from_pretrained(MODEL, padding_side=\"right\")\n",
    "tokenizer.pad_token = tokenizer.eos_token"
   ]
  },
  {
   "cell_type": "code",
   "execution_count": 8,
   "metadata": {},
   "outputs": [
    {
     "data": {
      "text/plain": [
       "'<|endoftext|>'"
      ]
     },
     "execution_count": 8,
     "metadata": {},
     "output_type": "execute_result"
    }
   ],
   "source": [
    "tokenizer.pad_token"
   ]
  },
  {
   "cell_type": "code",
   "execution_count": 9,
   "metadata": {},
   "outputs": [
    {
     "name": "stdout",
     "output_type": "stream",
     "text": [
      "Answer the following question. Pick one from the given options, A, B, C or D?\n",
      "\n",
      "Question: An astronomer observes that a planet rotates faster after a meteorite impact. Which is the most likely effect of this increase in rotation?\n",
      "Options:\n",
      "\tA. Planetary density will decrease.\n",
      "\tB. Planetary years will become longer.\n",
      "\tC. Planetary days will become shorter.\n",
      "\tD. Planetary gravity will become stronger.\n",
      "\n",
      "Answer: \n"
     ]
    }
   ],
   "source": [
    "prompt = construct_ARC_prompt(\n",
    "    question=dataset[0][\"question\"],\n",
    "    options=dataset[0][\"choices\"][\"text\"],\n",
    "    enum_chars=dataset[0][\"choices\"][\"label\"]\n",
    ")\n",
    "print(prompt)"
   ]
  },
  {
   "cell_type": "code",
   "execution_count": 10,
   "metadata": {},
   "outputs": [
    {
     "data": {
      "text/plain": [
       "['id', 'question', 'choices', 'answerKey']"
      ]
     },
     "execution_count": 10,
     "metadata": {},
     "output_type": "execute_result"
    }
   ],
   "source": [
    "loader_columns = [\n",
    "    'datasets_idx',\n",
    "    'input_ids',\n",
    "    'token_type_ids',\n",
    "    'attention_mask',\n",
    "    'start_positions',\n",
    "    'end_positions',\n",
    "    'labels'\n",
    "]\n",
    "columns_to_ignore = [c for c in dataset.column_names if c not in loader_columns]\n",
    "columns_to_ignore"
   ]
  },
  {
   "cell_type": "code",
   "execution_count": 11,
   "metadata": {},
   "outputs": [],
   "source": [
    "encoder = ARCInputsEncoder(tokenizer=tokenizer, max_seq_length=384)\n",
    "\n",
    "dataset_transformed = dataset.map(\n",
    "    encoder,\n",
    "    batched=True,\n",
    "    remove_columns=columns_to_ignore,\n",
    ")"
   ]
  },
  {
   "cell_type": "code",
   "execution_count": 12,
   "metadata": {},
   "outputs": [],
   "source": [
    "BATCH_SIZE = 32\n",
    "\n",
    "data_collator = DataCollatorForLanguageModeling(\n",
    "    tokenizer=tokenizer,\n",
    "    mlm=False,\n",
    ")\n",
    "test_dl = DataLoader(\n",
    "    dataset_transformed, batch_size=BATCH_SIZE, shuffle=False, collate_fn=data_collator, pin_memory=True\n",
    ")"
   ]
  },
  {
   "cell_type": "code",
   "execution_count": 13,
   "metadata": {},
   "outputs": [
    {
     "name": "stderr",
     "output_type": "stream",
     "text": [
      "You're using a GPT2TokenizerFast tokenizer. Please note that with a fast tokenizer, using the `__call__` method is faster than using a method to encode the text followed by a call to the `pad` method to get a padded encoding.\n"
     ]
    },
    {
     "data": {
      "text/plain": [
       "dict_keys(['input_ids', 'attention_mask', 'labels'])"
      ]
     },
     "execution_count": 13,
     "metadata": {},
     "output_type": "execute_result"
    }
   ],
   "source": [
    "next(iter(test_dl)).keys()"
   ]
  },
  {
   "cell_type": "code",
   "execution_count": 14,
   "metadata": {},
   "outputs": [
    {
     "data": {
      "application/vnd.jupyter.widget-view+json": {
       "model_id": "4fc6485889a34fada5cd830a32d2938b",
       "version_major": 2,
       "version_minor": 0
      },
      "text/plain": [
       "  0%|          | 0/37 [00:00<?, ?it/s]"
      ]
     },
     "metadata": {},
     "output_type": "display_data"
    },
    {
     "name": "stderr",
     "output_type": "stream",
     "text": [
      "Setting `pad_token_id` to `eos_token_id`:50256 for open-end generation.\n",
      "A decoder-only architecture is being used, but right-padding was detected! For correct generation results, please set `padding_side='left'` when initializing the tokenizer.\n"
     ]
    },
    {
     "name": "stdout",
     "output_type": "stream",
     "text": [
      "-------------------------------------------------------------------------------- \n",
      " Answer the following question. Pick one from the given options, A, B, C or D?\n",
      "\n",
      "Question: An astronomer observes that a planet rotates faster after a meteorite impact. Which is the most likely effect of this increase in rotation?\n",
      "\n",
      "Options:\n",
      "\tA. Planetary density will decrease.\n",
      "\tB. Planetary years will become longer.\n",
      "\tC. Planetary days will become shorter.\n",
      "\tD. Planetary gravity will become stronger.\n",
      "\n",
      "The correct answer is The planet rotates faster after a meteorite impact.\n",
      "\n",
      "Answer: An astronomer observes that a planet rotates faster after a meteorite impact. Which is the most likely effect of this increase in rotation?\n",
      "\n",
      "Option: An astronomer observes that a planet rotates faster after a meteorite impact. Which is the most likely effect of this increase in rotation?\n",
      "\n",
      "Answer: An astronomer observes that a planet rotates faster after a meteorite impact. Which is the most likely effect of this increase in rotation?\n",
      "\n",
      "Option: An astronomer observes that a planet rotates faster after a meteorite impact. Which is the most likely effect of this increase in rotation?\n",
      "\n",
      "Option: An astronomer observes that a planet rotates faster after a meteorite impact. Which is the most likely effect of this increase in rotation?\n",
      "\n",
      "Option: An astronomer observes that a planet rotates faster after a meteorite impact. Which is the most likely effect of this increase in rotation?\n",
      "\n",
      "Option: An astronomer observes that a planet rotates faster after a meteorite impact. Which is the\n",
      "-------------------------------------------------------------------------------- \n",
      " Answer the following question. Pick one from the given options, A, B, C or D?\n",
      "\n",
      "Question: A group of engineers wanted to know how different building designs would respond during an earthquake. They made several models of buildings and tested each for its ability to withstand earthquake conditions. Which will most likely result from testing different building designs?\n",
      "\n",
      "Options:\n",
      "\tA. buildings will be built faster\n",
      "\tB. buildings will be made safer\n",
      "\tC. building designs will look nicer\n",
      "\tD. building materials will be cheaper\n",
      "\n",
      "The correct answer is The answer is \n",
      "\n",
      "Answer: A group of engineers wanted to know how different building designs would respond during an earthquake. They made several models of buildings and tested each for its ability to withstand earthquake conditions. Which will most likely result from testing different building designs?\n",
      "\n",
      "Option A: A group of engineers wanted to know how different building designs would respond during an earthquake. They made several models of buildings and tested each for its ability to withstand earthquake conditions. Which will most likely result from testing different building designs?\n",
      "\n",
      "Option B: A group of engineers wanted to know how different building designs would respond during an earthquake. They made several models of buildings and tested each for its ability to withstand earthquake conditions. Which will most likely result from testing different building designs?\n",
      "\n",
      "Option C: A group of engineers wanted to know how different building designs would respond during an earthquake. They made several models of buildings and tested each for its ability to withstand earthquake conditions. Which will most likely result from testing different building designs?\n",
      "\n",
      "Option D: A group of engineers wanted to know how different building designs\n",
      "-------------------------------------------------------------------------------- \n",
      " Answer the following question. Pick one from the given options, A, B, C or D?\n",
      "\n",
      "Question: The end result in the process of photosynthesis is the production of sugar and oxygen. Which step signals the beginning of photosynthesis?\n",
      "\n",
      "Options:\n",
      "\tA. Chemical energy is absorbed through the roots.\n",
      "\tB. Light energy is converted to chemical energy.\n",
      "\tC. Chlorophyll in the leaf captures light energy.\n",
      "\tD. Sunlight is converted into chlorophyll.\n",
      "\n",
      "The correct answer is The end result in the process of photosynthesis is the production of sugar and oxygen. Which step signals the beginning of photosynthesis?\n",
      "\n",
      "Option A: The end result in the process of photosynthesis is the production of sugar and oxygen. Which step signals the beginning of photosynthesis?\n",
      "\n",
      "Option B: The end result in the process of photosynthesis is the production of sugar and oxygen. Which step signals the beginning of photosynthesis?\n",
      "\n",
      "Option C: The end result in the process of photosynthesis is the production of sugar and oxygen. Which step signals the beginning of photosynthesis?\n",
      "\n",
      "Option D: The end result in the process of photosynthesis is the production of sugar and oxygen. Which step signals the beginning of photosynthesis?\n",
      "\n",
      "Option E: The end result in the process of photosynthesis is the production of sugar and oxygen. Which step signals the beginning of photosynthesis?\n",
      "\n",
      "Option F: The end result in the process of photosynthesis is the production of sugar and oxygen. Which step signals the beginning of photosynthesis?\n",
      "\n",
      "Option G: The end\n",
      "-------------------------------------------------------------------------------- \n",
      " Answer the following question. Pick one from the given options, A, B, C or D?\n",
      "\n",
      "Question: A physicist wants to determine the speed a car must reach to jump over a ramp. The physicist conducts three trials. In trials two and three, the speed of the car is increased by 20 miles per hour. What is the physicist investigating when he changes the speed?\n",
      "\n",
      "Options:\n",
      "\tA. the control\n",
      "\tB. the hypothesis statement\n",
      "\tC. the dependent (responding) variable\n",
      "\tD. the independent (manipulated) variable\n",
      "\n",
      "The correct answer is The physicist is investigating the speed of the car.\n",
      "\n",
      "Answer: A physicist wants to determine the speed of a car. The physicist conducts three trials. In trials two and three, the speed of the car is increased by 20 miles per hour. What is the physicist investigating when he changes the speed?Answer: A physicist wants to determine the speed of a car. The physicist conducts three trials. In trials two and three, the speed of the car is increased by 20 miles per hour. What is the physicist investigating when he changes the speed?Answer: A physicist wants to determine the speed of a car. The physicist conducts three trials. In trials two and three, the speed of the car is increased by 20 miles per hour. What is the physicist investigating when he changes the speed?Answer: A physicist wants to determine the speed of a car. The physicist conducts three trials. In trials two and three, the speed of the car is increased by 20 miles per hour. What is the physicist investigating when he changes the speed?Answer: A physicist wants to determine the speed of a\n"
     ]
    }
   ],
   "source": [
    "with torch.no_grad():\n",
    "    for batch in tqdm(test_dl):\n",
    "        batch = {k: v.to(DEVICE) for k, v in batch.items()}\n",
    "        predictions = model.generate(\n",
    "            input_ids=batch[\"input_ids\"],\n",
    "            max_length=encoder.max_seq_length,\n",
    "            attention_mask=batch[\"attention_mask\"],\n",
    "        )\n",
    "        decoded_predictions = tokenizer.batch_decode(predictions, skip_special_tokens=True)\n",
    "        for i, pred in enumerate(decoded_predictions):\n",
    "            if i == 4:\n",
    "                break\n",
    "            print(\"-\" * 80, \"\\n\", pred)\n",
    "\n",
    "        break"
   ]
  },
  {
   "cell_type": "code",
   "execution_count": null,
   "metadata": {},
   "outputs": [],
   "source": []
  }
 ],
 "metadata": {
  "kernelspec": {
   "display_name": "base",
   "language": "python",
   "name": "python3"
  },
  "language_info": {
   "codemirror_mode": {
    "name": "ipython",
    "version": 3
   },
   "file_extension": ".py",
   "mimetype": "text/x-python",
   "name": "python",
   "nbconvert_exporter": "python",
   "pygments_lexer": "ipython3",
   "version": "3.10.8"
  },
  "orig_nbformat": 4
 },
 "nbformat": 4,
 "nbformat_minor": 2
}
